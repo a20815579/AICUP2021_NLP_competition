{
 "cells": [
  {
   "cell_type": "code",
   "execution_count": 1,
   "metadata": {
    "executionInfo": {
     "elapsed": 250,
     "status": "ok",
     "timestamp": 1622653555297,
     "user": {
      "displayName": "Joffy Loj",
      "photoUrl": "",
      "userId": "02634469787259503050"
     },
     "user_tz": -480
    },
    "id": "K5-038852e2Q",
    "scrolled": true
   },
   "outputs": [
    {
     "name": "stderr",
     "output_type": "stream",
     "text": [
      "c:\\users\\user\\anaconda3\\envs\\fda\\lib\\site-packages\\numpy\\_distributor_init.py:32: UserWarning: loaded more than 1 DLL from .libs:\n",
      "c:\\users\\user\\anaconda3\\envs\\fda\\lib\\site-packages\\numpy\\.libs\\libopenblas.PYQHXLVVQ7VESDPUVUADXEVJOBGHJPAY.gfortran-win_amd64.dll\n",
      "c:\\users\\user\\anaconda3\\envs\\fda\\lib\\site-packages\\numpy\\.libs\\libopenblas.WCDJNK7YVMPZQ2ME2ZZHJJRJ3JIKNDB7.gfortran-win_amd64.dll\n",
      "  stacklevel=1)\n"
     ]
    }
   ],
   "source": [
    "import pandas as pd\n",
    "import jieba\n",
    "import re\n",
    "import numpy as np"
   ]
  },
  {
   "cell_type": "code",
   "execution_count": 2,
   "metadata": {},
   "outputs": [],
   "source": [
    "df = pd.read_csv(\"Train_risk_classification_ans.csv\")\n",
    "df = df.drop(columns= \"Unnamed: 0\")"
   ]
  },
  {
   "cell_type": "code",
   "execution_count": 3,
   "metadata": {
    "scrolled": true
   },
   "outputs": [
    {
     "name": "stderr",
     "output_type": "stream",
     "text": [
      "Building prefix dict from the default dictionary ...\n",
      "Loading model from cache C:\\Users\\USER\\AppData\\Local\\Temp\\jieba.cache\n",
      "Loading model cost 0.766 seconds.\n",
      "Prefix dict has been built successfully.\n",
      "c:\\users\\user\\anaconda3\\envs\\fda\\lib\\site-packages\\ipykernel_launcher.py:5: SettingWithCopyWarning: \n",
      "A value is trying to be set on a copy of a slice from a DataFrame\n",
      "\n",
      "See the caveats in the documentation: https://pandas.pydata.org/pandas-docs/stable/user_guide/indexing.html#returning-a-view-versus-a-copy\n",
      "  \"\"\"\n",
      "c:\\users\\user\\anaconda3\\envs\\fda\\lib\\site-packages\\ipykernel_launcher.py:9: SettingWithCopyWarning: \n",
      "A value is trying to be set on a copy of a slice from a DataFrame\n",
      "\n",
      "See the caveats in the documentation: https://pandas.pydata.org/pandas-docs/stable/user_guide/indexing.html#returning-a-view-versus-a-copy\n",
      "  if __name__ == '__main__':\n"
     ]
    }
   ],
   "source": [
    "# 斷詞後刪掉 \"的\"\n",
    "counts = {}\n",
    "jieba.load_userdict('./userdict.txt')\n",
    "for i in range(df.shape[0]):\n",
    "    df[\"text\"][i] = jieba.lcut(df[\"text\"][i])\n",
    "    for j in range(len(df[\"text\"][i])):\n",
    "        if df[\"text\"][i][j] == \"的\":\n",
    "            df[\"text\"][i][j] = \"\"\n",
    "    df[\"text\"][i] = ''.join(df[\"text\"][i])"
   ]
  },
  {
   "cell_type": "code",
   "execution_count": 4,
   "metadata": {
    "scrolled": true
   },
   "outputs": [],
   "source": [
    "# 刪除贅字\n",
    "def replace_name(row):\n",
    "    row.text = re.sub(\":五。\",\":嗯。\", row.text) # 台語\n",
    "    row.text = re.sub(\":a[,。]\",\":欸。\", row.text)\n",
    "    row.text = re.sub(\"[,。]a[,。]\",\":欸。\", row.text) \n",
    "    row.text = re.sub(\"[(醫師)|人]?[甲乙]?醫師[\\w]?:\",\"\", row.text) \n",
    "    row.text = re.sub(\"家屬[\\w]?:\",\"\", row.text) \n",
    "    row.text = re.sub(\"民眾[\\w]?:\",\"\", row.text)\n",
    "    row.text = re.sub(\"護理師[\\w]?:\",\"\", row.text)\n",
    "    row.text = re.sub('個管師[\\w]?:', '', row.text)  \n",
    "    row.text = re.sub(\"[ab]先生\",\"先生\", row.text)\n",
    "    row.text = re.sub('[阿啊痾啦呀啦嘛哇吧ㄟ欸诶誒耶餒咧嘞勒了嗎呢唔]', '', row.text)\n",
    "    row.text = re.sub('[哼亨蛤蝦呃呵哈嘿喔哦唷呦喲齁啦摁恩嗯哎唉]', '', row.text)    \n",
    "    row.text = row.text.replace('挂', '掛')\n",
    "    row.text = row.text.replace('如果假設', '如果')\n",
    "    row.text = row.text.replace('不應該', '不該')\n",
    "    row.text = row.text.replace('了解', '瞭解')\n",
    "    row.text = row.text.replace('甚麼', '什麼')\n",
    "    row.text = row.text.replace('艾滋病', '愛滋病')\n",
    "    row.text = row.text.replace('固砲', '固炮')\n",
    "    row.text = row.text.replace('就是說', '')\n",
    "    row.text = row.text.replace('24', '二十四')\n",
    "    row.text = row.text.replace('\\u200b', '')\n",
    "    row.text = re.sub('(然後)|(所以)|(而且)|(其實)|(大概)|(應該)|(反正)|(所謂)|(一下)', '', row.text)    \n",
    "    row.text = re.sub(\"就是?\", \"\", row.text)\n",
    "    row.text = re.sub(\"這樣子?\", \"\", row.text)  \n",
    "    row.text = re.sub('(ok)+', '好', row.text)\n",
    "    row.text = re.sub('好+', '好', row.text)\n",
    "    row.text = re.sub('我+', '我', row.text)\n",
    "    row.text = re.sub('對+', '對', row.text)    \n",
    "    row.text = re.sub('會+', '會', row.text)\n",
    "    row.text = re.sub('謝+', '謝', row.text)\n",
    "    row.text = re.sub('又+', '又', row.text)\n",
    "    row.text = re.sub('都+', '都', row.text)\n",
    "    row.text = re.sub('不+', '不', row.text)\n",
    "    row.text = re.sub('是+', '是', row.text)\n",
    "    \n",
    "    row.text = re.sub(\"[0-9]+\", '', row.text)\n",
    "    row.text = re.sub(\"[。、…⋯“”]\", '', row.text)\n",
    "    row.text = re.sub(\"[,!:~·‧]\", '', row.text)\n",
    "    row.text = re.sub(\"[\\?\\.]\", '', row.text)\n",
    "    return row"
   ]
  },
  {
   "cell_type": "code",
   "execution_count": 5,
   "metadata": {},
   "outputs": [],
   "source": [
    "def strQ2B(row):\n",
    "    # 轉小寫\n",
    "    row.text = row.text.lower()\n",
    "    # 全形轉半形\n",
    "    rstring = \"\"\n",
    "    for uchar in row.text:\n",
    "        u_code = ord(uchar)\n",
    "        if (65281 <= u_code <= 65374):\n",
    "            u_code -= 65248\n",
    "        rstring += chr(u_code)\n",
    "    row.text = rstring\n",
    "    return row"
   ]
  },
  {
   "cell_type": "code",
   "execution_count": 6,
   "metadata": {
    "scrolled": true
   },
   "outputs": [],
   "source": [
    "df1 = df.apply(strQ2B, axis=1)\n",
    "df1 = df1.apply(replace_name, axis=1)\n",
    "df1 = df1.apply(replace_name, axis=1)"
   ]
  },
  {
   "cell_type": "code",
   "execution_count": null,
   "metadata": {},
   "outputs": [],
   "source": [
    "!pip install opencc"
   ]
  },
  {
   "cell_type": "code",
   "execution_count": 7,
   "metadata": {},
   "outputs": [
    {
     "name": "stderr",
     "output_type": "stream",
     "text": [
      "c:\\users\\user\\anaconda3\\envs\\fda\\lib\\site-packages\\ipykernel_launcher.py:5: SettingWithCopyWarning: \n",
      "A value is trying to be set on a copy of a slice from a DataFrame\n",
      "\n",
      "See the caveats in the documentation: https://pandas.pydata.org/pandas-docs/stable/user_guide/indexing.html#returning-a-view-versus-a-copy\n",
      "  \"\"\"\n"
     ]
    },
    {
     "data": {
      "text/html": [
       "<div>\n",
       "<style scoped>\n",
       "    .dataframe tbody tr th:only-of-type {\n",
       "        vertical-align: middle;\n",
       "    }\n",
       "\n",
       "    .dataframe tbody tr th {\n",
       "        vertical-align: top;\n",
       "    }\n",
       "\n",
       "    .dataframe thead th {\n",
       "        text-align: right;\n",
       "    }\n",
       "</style>\n",
       "<table border=\"1\" class=\"dataframe\">\n",
       "  <thead>\n",
       "    <tr style=\"text-align: right;\">\n",
       "      <th></th>\n",
       "      <th>article_id</th>\n",
       "      <th>text</th>\n",
       "      <th>label</th>\n",
       "    </tr>\n",
       "  </thead>\n",
       "  <tbody>\n",
       "    <tr>\n",
       "      <th>0</th>\n",
       "      <td>1</td>\n",
       "      <td>这个月还好这个月还好这个月还好还好还可以有性行为有是跟固定伴侣对固定伴侣对你有固定伴侣啰本来...</td>\n",
       "      <td>1</td>\n",
       "    </tr>\n",
       "    <tr>\n",
       "      <th>1</th>\n",
       "      <td>2</td>\n",
       "      <td>你这个月还好还好那有固定伴侣没有你一直以来都没有固定伴侣什么你从一开始没有固定伴侣你说来这里...</td>\n",
       "      <td>1</td>\n",
       "    </tr>\n",
       "    <tr>\n",
       "      <th>2</th>\n",
       "      <td>3</td>\n",
       "      <td>在忙装潢干对都在熬夜对都一直熬夜也没有熬夜回家我吃安眠药睡对为什么看起来没有精神是安眠药还没...</td>\n",
       "      <td>1</td>\n",
       "    </tr>\n",
       "    <tr>\n",
       "      <th>3</th>\n",
       "      <td>4</td>\n",
       "      <td>对你是说你要帮我帮你给这个你说小花跟你现在是状况是还好比较差是我在那个line上面那个时候那...</td>\n",
       "      <td>1</td>\n",
       "    </tr>\n",
       "    <tr>\n",
       "      <th>4</th>\n",
       "      <td>5</td>\n",
       "      <td>好过去这一个月还好还可以那今天是请假没有晚上上班晚上上班上什么班调酒师好那现在还是固定伴侣对...</td>\n",
       "      <td>0</td>\n",
       "    </tr>\n",
       "  </tbody>\n",
       "</table>\n",
       "</div>"
      ],
      "text/plain": [
       "   article_id                                               text label\n",
       "0           1  这个月还好这个月还好这个月还好还好还可以有性行为有是跟固定伴侣对固定伴侣对你有固定伴侣啰本来...     1\n",
       "1           2  你这个月还好还好那有固定伴侣没有你一直以来都没有固定伴侣什么你从一开始没有固定伴侣你说来这里...     1\n",
       "2           3  在忙装潢干对都在熬夜对都一直熬夜也没有熬夜回家我吃安眠药睡对为什么看起来没有精神是安眠药还没...     1\n",
       "3           4  对你是说你要帮我帮你给这个你说小花跟你现在是状况是还好比较差是我在那个line上面那个时候那...     1\n",
       "4           5  好过去这一个月还好还可以那今天是请假没有晚上上班晚上上班上什么班调酒师好那现在还是固定伴侣对...     0"
      ]
     },
     "execution_count": 7,
     "metadata": {},
     "output_type": "execute_result"
    }
   ],
   "source": [
    "#轉簡體\n",
    "from opencc import OpenCC\n",
    "cc = OpenCC('tw2sp')\n",
    "for i in range( len( df1.index ) ):\n",
    "    df1['text'][i] = cc.convert( df1['text'][i] )\n",
    "df1.head()"
   ]
  },
  {
   "cell_type": "code",
   "execution_count": 8,
   "metadata": {},
   "outputs": [
    {
     "data": {
      "text/plain": [
       "11"
      ]
     },
     "execution_count": 8,
     "metadata": {},
     "output_type": "execute_result"
    }
   ],
   "source": [
    "# delete lenth > 3000\n",
    "# 因為在刪除贅字後還超過3000字的文章代表內容太冗缺乏重點，為避免給模型造成過多雜訊，將之移除\n",
    "drop_long = []\n",
    "for i in range(df1.shape[0]):\n",
    "    if len(df1[\"text\"][i]) > 3000:\n",
    "        drop_long.append(i)\n",
    "len(drop_long)"
   ]
  },
  {
   "cell_type": "code",
   "execution_count": 9,
   "metadata": {},
   "outputs": [],
   "source": [
    "df2 = df1.drop(index = drop_long)\n",
    "df2 = df2.reset_index(drop = True)"
   ]
  },
  {
   "cell_type": "code",
   "execution_count": 10,
   "metadata": {
    "executionInfo": {
     "elapsed": 252,
     "status": "ok",
     "timestamp": 1622653861420,
     "user": {
      "displayName": "Joffy Loj",
      "photoUrl": "",
      "userId": "02634469787259503050"
     },
     "user_tz": -480
    },
    "id": "i3E8SIIq53AZ"
   },
   "outputs": [],
   "source": [
    "label = []\n",
    "article_id = []\n",
    "text = []\n",
    "bin_size = 460\n",
    "buffer_size = 50"
   ]
  },
  {
   "cell_type": "code",
   "execution_count": 11,
   "metadata": {
    "executionInfo": {
     "elapsed": 418,
     "status": "ok",
     "timestamp": 1622653862230,
     "user": {
      "displayName": "Joffy Loj",
      "photoUrl": "",
      "userId": "02634469787259503050"
     },
     "user_tz": -480
    },
    "id": "cYcsjRl-6c44"
   },
   "outputs": [],
   "source": [
    "# 將文章切成每段510字，前後50字會和相鄰資料重疊\n",
    "for i in range( len( df2.index )):\n",
    "    buffer = \"\"\n",
    "    bin_count = len( df2[\"text\"][i] ) // bin_size + 1\n",
    "    for j in range( bin_count - 1 ):\n",
    "        label.append( df2[\"label\"][i] )\n",
    "        article_id.append( df2[\"article_id\"][i] )\n",
    "\n",
    "        text.append( buffer + df2[\"text\"][i][ bin_size * j : bin_size * (j+1) ]  )\n",
    "\n",
    "        buffer = df2[\"text\"][i][ bin_size * (j+1) - 50 : bin_size * (j+1) ]\n",
    "\n",
    "    label.append( df2[\"label\"][i] )\n",
    "    article_id.append( df2[\"article_id\"][i] )\n",
    "    text.append( df2[\"text\"][i][ bin_size * (bin_count - 1):] )"
   ]
  },
  {
   "cell_type": "code",
   "execution_count": 12,
   "metadata": {
    "executionInfo": {
     "elapsed": 3,
     "status": "ok",
     "timestamp": 1622653864069,
     "user": {
      "displayName": "Joffy Loj",
      "photoUrl": "",
      "userId": "02634469787259503050"
     },
     "user_tz": -480
    },
    "id": "-3I5r42TB5vM"
   },
   "outputs": [],
   "source": [
    "df3 = pd.DataFrame(columns = ['article_id', 'label', 'text'] )\n",
    "df3['article_id'] = article_id\n",
    "df3['label'] = label\n",
    "df3['text'] = text"
   ]
  },
  {
   "cell_type": "code",
   "execution_count": 13,
   "metadata": {},
   "outputs": [
    {
     "data": {
      "text/plain": [
       "36"
      ]
     },
     "execution_count": 13,
     "metadata": {},
     "output_type": "execute_result"
    }
   ],
   "source": [
    "# delete length < 50\n",
    "# 小於50字的句子代表內容在前一筆資料已經有(因為前後會overlap 50字)，因此刪除\n",
    "drop_list = []\n",
    "for i in range(df3.shape[0]):\n",
    "    if len(df3[\"text\"][i]) < 50:\n",
    "        drop_list.append(i)\n",
    "len(drop_list)"
   ]
  },
  {
   "cell_type": "code",
   "execution_count": 14,
   "metadata": {},
   "outputs": [
    {
     "data": {
      "text/html": [
       "<div>\n",
       "<style scoped>\n",
       "    .dataframe tbody tr th:only-of-type {\n",
       "        vertical-align: middle;\n",
       "    }\n",
       "\n",
       "    .dataframe tbody tr th {\n",
       "        vertical-align: top;\n",
       "    }\n",
       "\n",
       "    .dataframe thead th {\n",
       "        text-align: right;\n",
       "    }\n",
       "</style>\n",
       "<table border=\"1\" class=\"dataframe\">\n",
       "  <thead>\n",
       "    <tr style=\"text-align: right;\">\n",
       "      <th></th>\n",
       "      <th>article_id</th>\n",
       "      <th>label</th>\n",
       "      <th>text</th>\n",
       "    </tr>\n",
       "  </thead>\n",
       "  <tbody>\n",
       "    <tr>\n",
       "      <th>0</th>\n",
       "      <td>1</td>\n",
       "      <td>1</td>\n",
       "      <td>这个月还好这个月还好这个月还好还好还可以有性行为有是跟固定伴侣对固定伴侣对你有固定伴侣啰本来...</td>\n",
       "    </tr>\n",
       "    <tr>\n",
       "      <th>1</th>\n",
       "      <td>1</td>\n",
       "      <td>1</td>\n",
       "      <td>你会吃prep你会戴套对戴套对戴套全程对如果说全程的话也是没有那如果没有戴套是他要求还是你要...</td>\n",
       "    </tr>\n",
       "    <tr>\n",
       "      <th>2</th>\n",
       "      <td>1</td>\n",
       "      <td>1</td>\n",
       "      <td>没有很相信你固炮但我觉得是好因为保护自己因为prep本来不是吃给对方看不是一个证明文档说我有...</td>\n",
       "    </tr>\n",
       "    <tr>\n",
       "      <th>3</th>\n",
       "      <td>2</td>\n",
       "      <td>1</td>\n",
       "      <td>你这个月还好还好那有固定伴侣没有你一直以来都没有固定伴侣什么你从一开始没有固定伴侣你说来这里...</td>\n",
       "    </tr>\n",
       "    <tr>\n",
       "      <th>4</th>\n",
       "      <td>2</td>\n",
       "      <td>1</td>\n",
       "      <td>还是比较少一点偶尔戴套意思是那吃prep之后更少比偶尔还要再少一点戴套对你会觉得吃prep是...</td>\n",
       "    </tr>\n",
       "    <tr>\n",
       "      <th>...</th>\n",
       "      <td>...</td>\n",
       "      <td>...</td>\n",
       "      <td>...</td>\n",
       "    </tr>\n",
       "    <tr>\n",
       "      <th>868</th>\n",
       "      <td>344</td>\n",
       "      <td>0</td>\n",
       "      <td>好你这次抽血都还不错看是年度检查我们下次一年后再抽血可以好那下次回来打流感下次回诊时候你马上...</td>\n",
       "    </tr>\n",
       "    <tr>\n",
       "      <th>869</th>\n",
       "      <td>345</td>\n",
       "      <td>0</td>\n",
       "      <td>我还要问是问医师一个问题我肝药你给我开两个月看两个月药钱肝药对肝药你帮我看算起来差不多多少钱...</td>\n",
       "    </tr>\n",
       "    <tr>\n",
       "      <th>870</th>\n",
       "      <td>345</td>\n",
       "      <td>0</td>\n",
       "      <td>冒比较咳嗽有咳嗽比较会咳嗽比较会咳嗽是这三个礼拜比较会咳嗽我一咳嗽出来的话要喘气很困难我觉得...</td>\n",
       "    </tr>\n",
       "    <tr>\n",
       "      <th>871</th>\n",
       "      <td>346</td>\n",
       "      <td>0</td>\n",
       "      <td>现在是在哪在也是在念硕班对要毕业希望是快希望快你要是电机系对是做什么研究我是做微电路组织微电...</td>\n",
       "    </tr>\n",
       "    <tr>\n",
       "      <th>872</th>\n",
       "      <td>346</td>\n",
       "      <td>0</td>\n",
       "      <td>的话当然那是挂胸腔科还是胸腔或者是过我这边都可以好我今天不让你退挂好因为今天假如不开单不用记...</td>\n",
       "    </tr>\n",
       "  </tbody>\n",
       "</table>\n",
       "<p>873 rows × 3 columns</p>\n",
       "</div>"
      ],
      "text/plain": [
       "     article_id label                                               text\n",
       "0             1     1  这个月还好这个月还好这个月还好还好还可以有性行为有是跟固定伴侣对固定伴侣对你有固定伴侣啰本来...\n",
       "1             1     1  你会吃prep你会戴套对戴套对戴套全程对如果说全程的话也是没有那如果没有戴套是他要求还是你要...\n",
       "2             1     1  没有很相信你固炮但我觉得是好因为保护自己因为prep本来不是吃给对方看不是一个证明文档说我有...\n",
       "3             2     1  你这个月还好还好那有固定伴侣没有你一直以来都没有固定伴侣什么你从一开始没有固定伴侣你说来这里...\n",
       "4             2     1  还是比较少一点偶尔戴套意思是那吃prep之后更少比偶尔还要再少一点戴套对你会觉得吃prep是...\n",
       "..          ...   ...                                                ...\n",
       "868         344     0  好你这次抽血都还不错看是年度检查我们下次一年后再抽血可以好那下次回来打流感下次回诊时候你马上...\n",
       "869         345     0  我还要问是问医师一个问题我肝药你给我开两个月看两个月药钱肝药对肝药你帮我看算起来差不多多少钱...\n",
       "870         345     0  冒比较咳嗽有咳嗽比较会咳嗽比较会咳嗽是这三个礼拜比较会咳嗽我一咳嗽出来的话要喘气很困难我觉得...\n",
       "871         346     0  现在是在哪在也是在念硕班对要毕业希望是快希望快你要是电机系对是做什么研究我是做微电路组织微电...\n",
       "872         346     0  的话当然那是挂胸腔科还是胸腔或者是过我这边都可以好我今天不让你退挂好因为今天假如不开单不用记...\n",
       "\n",
       "[873 rows x 3 columns]"
      ]
     },
     "execution_count": 14,
     "metadata": {},
     "output_type": "execute_result"
    }
   ],
   "source": [
    "df4 = df3.drop(index = drop_list)\n",
    "df4 = df4.reset_index(drop = True)\n",
    "df4"
   ]
  },
  {
   "cell_type": "code",
   "execution_count": 15,
   "metadata": {
    "executionInfo": {
     "elapsed": 6,
     "status": "ok",
     "timestamp": 1622653869923,
     "user": {
      "displayName": "Joffy Loj",
      "photoUrl": "",
      "userId": "02634469787259503050"
     },
     "user_tz": -480
    },
    "id": "ERvrTNoFCY9v"
   },
   "outputs": [],
   "source": [
    "df4.to_csv(\"risk_df_final_sp.csv\", index = False)"
   ]
  },
  {
   "cell_type": "code",
   "execution_count": null,
   "metadata": {},
   "outputs": [],
   "source": []
  },
  {
   "cell_type": "code",
   "execution_count": 16,
   "metadata": {
    "scrolled": false
   },
   "outputs": [
    {
     "data": {
      "text/html": [
       "<div>\n",
       "<style scoped>\n",
       "    .dataframe tbody tr th:only-of-type {\n",
       "        vertical-align: middle;\n",
       "    }\n",
       "\n",
       "    .dataframe tbody tr th {\n",
       "        vertical-align: top;\n",
       "    }\n",
       "\n",
       "    .dataframe thead th {\n",
       "        text-align: right;\n",
       "    }\n",
       "</style>\n",
       "<table border=\"1\" class=\"dataframe\">\n",
       "  <thead>\n",
       "    <tr style=\"text-align: right;\">\n",
       "      <th></th>\n",
       "      <th>Unnamed: 0</th>\n",
       "      <th>article_id</th>\n",
       "      <th>text</th>\n",
       "      <th>label</th>\n",
       "    </tr>\n",
       "  </thead>\n",
       "  <tbody>\n",
       "    <tr>\n",
       "      <th>0</th>\n",
       "      <td>1</td>\n",
       "      <td>1</td>\n",
       "      <td>醫師:差不多這樣齁。我看眼睛甚麼時候能夠檢查。年底啦齁。民眾:是的。醫師:許國強,病例是55...</td>\n",
       "      <td>NaN</td>\n",
       "    </tr>\n",
       "    <tr>\n",
       "      <th>1</th>\n",
       "      <td>2</td>\n",
       "      <td>2</td>\n",
       "      <td>醫師:讓我們先檢查索引。啊該死,我可以檢查一下嗎?民眾:好的。醫師:好齁。啊電腦斷層以前沒有...</td>\n",
       "      <td>NaN</td>\n",
       "    </tr>\n",
       "    <tr>\n",
       "      <th>2</th>\n",
       "      <td>3</td>\n",
       "      <td>3</td>\n",
       "      <td>醫師:你去年有打。民眾:我去年有打。民眾:嗯。醫師:這種免疫力。民眾:好啊。醫師:太可怕了。...</td>\n",
       "      <td>NaN</td>\n",
       "    </tr>\n",
       "    <tr>\n",
       "      <th>3</th>\n",
       "      <td>4</td>\n",
       "      <td>4</td>\n",
       "      <td>醫師:像這樣。民眾:嘿,照這樣呵。啊但是,我現在就是,也不一定是照這樣我就不會發作阿。醫師:...</td>\n",
       "      <td>NaN</td>\n",
       "    </tr>\n",
       "    <tr>\n",
       "      <th>4</th>\n",
       "      <td>5</td>\n",
       "      <td>5</td>\n",
       "      <td>醫師:好像有點低。民眾:按。醫師:所以好像沒有過敏。民眾:不。醫師:所以可能那些心悸是吃那個...</td>\n",
       "      <td>NaN</td>\n",
       "    </tr>\n",
       "  </tbody>\n",
       "</table>\n",
       "</div>"
      ],
      "text/plain": [
       "   Unnamed: 0  article_id                                               text  \\\n",
       "0           1           1  醫師:差不多這樣齁。我看眼睛甚麼時候能夠檢查。年底啦齁。民眾:是的。醫師:許國強,病例是55...   \n",
       "1           2           2  醫師:讓我們先檢查索引。啊該死,我可以檢查一下嗎?民眾:好的。醫師:好齁。啊電腦斷層以前沒有...   \n",
       "2           3           3  醫師:你去年有打。民眾:我去年有打。民眾:嗯。醫師:這種免疫力。民眾:好啊。醫師:太可怕了。...   \n",
       "3           4           4  醫師:像這樣。民眾:嘿,照這樣呵。啊但是,我現在就是,也不一定是照這樣我就不會發作阿。醫師:...   \n",
       "4           5           5  醫師:好像有點低。民眾:按。醫師:所以好像沒有過敏。民眾:不。醫師:所以可能那些心悸是吃那個...   \n",
       "\n",
       "   label  \n",
       "0    NaN  \n",
       "1    NaN  \n",
       "2    NaN  \n",
       "3    NaN  \n",
       "4    NaN  "
      ]
     },
     "execution_count": 16,
     "metadata": {},
     "output_type": "execute_result"
    }
   ],
   "source": [
    "# test\n",
    "df = pd.read_csv(\"Test_risk_classification.csv\")\n",
    "df.head()"
   ]
  },
  {
   "cell_type": "code",
   "execution_count": 17,
   "metadata": {},
   "outputs": [
    {
     "name": "stderr",
     "output_type": "stream",
     "text": [
      "c:\\users\\user\\anaconda3\\envs\\fda\\lib\\site-packages\\ipykernel_launcher.py:5: SettingWithCopyWarning: \n",
      "A value is trying to be set on a copy of a slice from a DataFrame\n",
      "\n",
      "See the caveats in the documentation: https://pandas.pydata.org/pandas-docs/stable/user_guide/indexing.html#returning-a-view-versus-a-copy\n",
      "  \"\"\"\n",
      "c:\\users\\user\\anaconda3\\envs\\fda\\lib\\site-packages\\ipykernel_launcher.py:9: SettingWithCopyWarning: \n",
      "A value is trying to be set on a copy of a slice from a DataFrame\n",
      "\n",
      "See the caveats in the documentation: https://pandas.pydata.org/pandas-docs/stable/user_guide/indexing.html#returning-a-view-versus-a-copy\n",
      "  if __name__ == '__main__':\n"
     ]
    }
   ],
   "source": [
    "# 斷詞後刪掉 \"的\"\n",
    "counts = {}\n",
    "jieba.load_userdict('./userdict.txt')\n",
    "for i in range(df.shape[0]):\n",
    "    df[\"text\"][i] = jieba.lcut(df[\"text\"][i])\n",
    "    for j in range(len(df[\"text\"][i])):\n",
    "        if df[\"text\"][i][j] == \"的\":\n",
    "            df[\"text\"][i][j] = \"\"\n",
    "    df[\"text\"][i] = ''.join(df[\"text\"][i])"
   ]
  },
  {
   "cell_type": "code",
   "execution_count": 20,
   "metadata": {},
   "outputs": [],
   "source": [
    "df1 = df.apply(strQ2B, axis=1)\n",
    "df2 = df1.apply(replace_name, axis=1)\n",
    "df2 = df2.apply(replace_name, axis=1)"
   ]
  },
  {
   "cell_type": "code",
   "execution_count": 21,
   "metadata": {},
   "outputs": [
    {
     "name": "stderr",
     "output_type": "stream",
     "text": [
      "c:\\users\\user\\anaconda3\\envs\\fda\\lib\\site-packages\\ipykernel_launcher.py:2: SettingWithCopyWarning: \n",
      "A value is trying to be set on a copy of a slice from a DataFrame\n",
      "\n",
      "See the caveats in the documentation: https://pandas.pydata.org/pandas-docs/stable/user_guide/indexing.html#returning-a-view-versus-a-copy\n",
      "  \n"
     ]
    },
    {
     "data": {
      "text/html": [
       "<div>\n",
       "<style scoped>\n",
       "    .dataframe tbody tr th:only-of-type {\n",
       "        vertical-align: middle;\n",
       "    }\n",
       "\n",
       "    .dataframe tbody tr th {\n",
       "        vertical-align: top;\n",
       "    }\n",
       "\n",
       "    .dataframe thead th {\n",
       "        text-align: right;\n",
       "    }\n",
       "</style>\n",
       "<table border=\"1\" class=\"dataframe\">\n",
       "  <thead>\n",
       "    <tr style=\"text-align: right;\">\n",
       "      <th></th>\n",
       "      <th>Unnamed: 0</th>\n",
       "      <th>article_id</th>\n",
       "      <th>text</th>\n",
       "      <th>label</th>\n",
       "    </tr>\n",
       "  </thead>\n",
       "  <tbody>\n",
       "    <tr>\n",
       "      <th>0</th>\n",
       "      <td>1</td>\n",
       "      <td>1</td>\n",
       "      <td>差不多我看眼睛什么时候能够检查年底是许国强病例是好下礼拜那我们也是照样照照常纪录好那个伤口让...</td>\n",
       "      <td>NaN</td>\n",
       "    </tr>\n",
       "    <tr>\n",
       "      <th>1</th>\n",
       "      <td>2</td>\n",
       "      <td>2</td>\n",
       "      <td>让我们先检查索引该死我可以检查好电脑断层以前没有拍过没有计算机断层扫描我没有拍出好照片我很热...</td>\n",
       "      <td>NaN</td>\n",
       "    </tr>\n",
       "    <tr>\n",
       "      <th>2</th>\n",
       "      <td>3</td>\n",
       "      <td>3</td>\n",
       "      <td>你去年有打我去年有打这种免疫力好太可怕你认为我会在月日之前哪一天他周三有约会他是周三周五会更...</td>\n",
       "      <td>NaN</td>\n",
       "    </tr>\n",
       "    <tr>\n",
       "      <th>3</th>\n",
       "      <td>4</td>\n",
       "      <td>4</td>\n",
       "      <td>像照但是我现在也不一定是照我不会发作是对那我到底错过什么不这么红小华等我们测耳朵和压舌板温度...</td>\n",
       "      <td>NaN</td>\n",
       "    </tr>\n",
       "    <tr>\n",
       "      <th>4</th>\n",
       "      <td>5</td>\n",
       "      <td>5</td>\n",
       "      <td>好像有点低按好像没有过敏不可能那些心悸是吃那个药会不会是现在也不好分细菌在是我觉得这很糟糕我...</td>\n",
       "      <td>NaN</td>\n",
       "    </tr>\n",
       "  </tbody>\n",
       "</table>\n",
       "</div>"
      ],
      "text/plain": [
       "   Unnamed: 0  article_id                                               text  \\\n",
       "0           1           1  差不多我看眼睛什么时候能够检查年底是许国强病例是好下礼拜那我们也是照样照照常纪录好那个伤口让...   \n",
       "1           2           2  让我们先检查索引该死我可以检查好电脑断层以前没有拍过没有计算机断层扫描我没有拍出好照片我很热...   \n",
       "2           3           3  你去年有打我去年有打这种免疫力好太可怕你认为我会在月日之前哪一天他周三有约会他是周三周五会更...   \n",
       "3           4           4  像照但是我现在也不一定是照我不会发作是对那我到底错过什么不这么红小华等我们测耳朵和压舌板温度...   \n",
       "4           5           5  好像有点低按好像没有过敏不可能那些心悸是吃那个药会不会是现在也不好分细菌在是我觉得这很糟糕我...   \n",
       "\n",
       "   label  \n",
       "0    NaN  \n",
       "1    NaN  \n",
       "2    NaN  \n",
       "3    NaN  \n",
       "4    NaN  "
      ]
     },
     "execution_count": 21,
     "metadata": {},
     "output_type": "execute_result"
    }
   ],
   "source": [
    "for i in range( len( df2.index ) ):\n",
    "    df2['text'][i] = cc.convert( df2['text'][i] )\n",
    "df2.head()"
   ]
  },
  {
   "cell_type": "code",
   "execution_count": 22,
   "metadata": {},
   "outputs": [],
   "source": [
    "article_id = []\n",
    "text = []\n",
    "for i in range( len( df2.index )):\n",
    "    buffer = \"\"\n",
    "    bin_count = len( df2[\"text\"][i] ) // bin_size + 1\n",
    "    for j in range( bin_count - 1 ):\n",
    "        label.append( df2[\"label\"][i] )\n",
    "        article_id.append( df2[\"article_id\"][i] )\n",
    "\n",
    "        text.append( buffer + df2[\"text\"][i][ bin_size * j : bin_size * (j+1) ]  )\n",
    "\n",
    "        buffer = df2[\"text\"][i][ bin_size * (j+1) - 50 : bin_size * (j+1) ]\n",
    "\n",
    "    article_id.append( df2[\"article_id\"][i] )\n",
    "    text.append( df2[\"text\"][i][ bin_size * (bin_count - 1):] )"
   ]
  },
  {
   "cell_type": "code",
   "execution_count": 23,
   "metadata": {},
   "outputs": [],
   "source": [
    "df3 = pd.DataFrame(columns = ['article_id', 'label', 'text'] )\n",
    "df3['article_id'] = article_id\n",
    "df3['text'] = text"
   ]
  },
  {
   "cell_type": "code",
   "execution_count": 24,
   "metadata": {},
   "outputs": [
    {
     "data": {
      "text/plain": [
       "397"
      ]
     },
     "execution_count": 24,
     "metadata": {},
     "output_type": "execute_result"
    }
   ],
   "source": [
    "drop_list = []\n",
    "for i in range(df3.shape[0]):\n",
    "    if len(df3[\"text\"][i]) < 50:\n",
    "        drop_list.append(i)\n",
    "len(drop_list)"
   ]
  },
  {
   "cell_type": "code",
   "execution_count": 25,
   "metadata": {},
   "outputs": [],
   "source": [
    "df4 = df3.drop(index = drop_list)\n",
    "df4.to_csv(\"risk_df_final_test_sp.csv\")"
   ]
  },
  {
   "cell_type": "code",
   "execution_count": null,
   "metadata": {},
   "outputs": [],
   "source": []
  }
 ],
 "metadata": {
  "colab": {
   "collapsed_sections": [],
   "name": "Risk Preprocessing_v4.ipynb",
   "provenance": [],
   "toc_visible": true
  },
  "kernelspec": {
   "display_name": "Python 3",
   "language": "python",
   "name": "python3"
  },
  "language_info": {
   "codemirror_mode": {
    "name": "ipython",
    "version": 3
   },
   "file_extension": ".py",
   "mimetype": "text/x-python",
   "name": "python",
   "nbconvert_exporter": "python",
   "pygments_lexer": "ipython3",
   "version": "3.7.10"
  }
 },
 "nbformat": 4,
 "nbformat_minor": 1
}
