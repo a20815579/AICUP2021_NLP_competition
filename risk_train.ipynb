{
 "cells": [
  {
   "cell_type": "code",
   "execution_count": null,
   "metadata": {
    "colab": {
     "base_uri": "https://localhost:8080/"
    },
    "executionInfo": {
     "elapsed": 19120,
     "status": "ok",
     "timestamp": 1623944122763,
     "user": {
      "displayName": "YANG, YUN CHEN 楊芸甄 H24071037",
      "photoUrl": "https://lh3.googleusercontent.com/a/default-user=s64",
      "userId": "00647021112345385047"
     },
     "user_tz": -480
    },
    "id": "DZ2Zji7m_IiV",
    "outputId": "89fd32b8-427d-4396-e7b9-371f388e4dd5"
   },
   "outputs": [
    {
     "name": "stdout",
     "output_type": "stream",
     "text": [
      "Mounted at /content/gdrive\n"
     ]
    }
   ],
   "source": [
    "from google.colab import drive\n",
    "drive.mount('/content/gdrive')"
   ]
  },
  {
   "cell_type": "code",
   "execution_count": null,
   "metadata": {
    "colab": {
     "base_uri": "https://localhost:8080/"
    },
    "executionInfo": {
     "elapsed": 4,
     "status": "ok",
     "timestamp": 1623954603828,
     "user": {
      "displayName": "YANG, YUN CHEN 楊芸甄 H24071037",
      "photoUrl": "https://lh3.googleusercontent.com/a/default-user=s64",
      "userId": "00647021112345385047"
     },
     "user_tz": -480
    },
    "id": "Mw2MbVt-_J12",
    "outputId": "5ea04ad5-98d4-49b3-9f0c-484ffe0ac111"
   },
   "outputs": [
    {
     "data": {
      "text/plain": [
       "['results',\n",
       " 'logs',\n",
       " 'medical_bert_ch',\n",
       " 'risk_0603.ipynb',\n",
       " 'data',\n",
       " 'risk_train.ipynb']"
      ]
     },
     "execution_count": 34,
     "metadata": {
      "tags": []
     },
     "output_type": "execute_result"
    }
   ],
   "source": [
    "import os\n",
    "os.chdir('/content/gdrive/My Drive/Colab/AICUP')\n",
    "os.listdir()"
   ]
  },
  {
   "cell_type": "code",
   "execution_count": null,
   "metadata": {
    "id": "Vsx9OmLby3oz"
   },
   "outputs": [],
   "source": [
    "!pip install transformers\n",
    "!pip install datasets"
   ]
  },
  {
   "cell_type": "code",
   "execution_count": null,
   "metadata": {
    "colab": {
     "base_uri": "https://localhost:8080/"
    },
    "executionInfo": {
     "elapsed": 377,
     "status": "ok",
     "timestamp": 1623954608003,
     "user": {
      "displayName": "YANG, YUN CHEN 楊芸甄 H24071037",
      "photoUrl": "https://lh3.googleusercontent.com/a/default-user=s64",
      "userId": "00647021112345385047"
     },
     "user_tz": -480
    },
    "id": "oBMn_IFYy3o0",
    "outputId": "795a3291-f599-40b2-e07b-223c652ca6ed"
   },
   "outputs": [
    {
     "name": "stdout",
     "output_type": "stream",
     "text": [
      "PyTorch 的版本為: 1.8.1+cu101\n",
      "Hugging Face Transformers 的版本為: 4.6.1\n",
      "Hugging Face Datasets 的版本為: 1.8.0\n"
     ]
    }
   ],
   "source": [
    "import torch\n",
    "print(\"PyTorch 的版本為: {}\".format(torch.__version__))\n",
    "\n",
    "import transformers\n",
    "print(\"Hugging Face Transformers 的版本為: {}\".format(transformers.__version__))\n",
    "\n",
    "import datasets\n",
    "print(\"Hugging Face Datasets 的版本為: {}\".format(datasets.__version__))"
   ]
  },
  {
   "cell_type": "code",
   "execution_count": null,
   "metadata": {
    "id": "QOXp11hby3o1"
   },
   "outputs": [],
   "source": [
    "import unicodedata\n",
    "import re\n",
    "import tqdm\n",
    "import pandas as pd\n",
    "import numpy as np\n",
    "\n",
    "import torch\n",
    "from torch.utils.data import TensorDataset, DataLoader, RandomSampler, SequentialSampler\n",
    "\n",
    "from transformers import BertTokenizer\n",
    "from transformers import BertForMultipleChoice, BertForSequenceClassification\n",
    "from datasets import load_metric\n",
    "from transformers import BertConfig,BertModel\n",
    "\n",
    "from IPython.display import clear_output\n",
    "from pathlib import Path"
   ]
  },
  {
   "cell_type": "code",
   "execution_count": null,
   "metadata": {
    "colab": {
     "base_uri": "https://localhost:8080/",
     "height": 205
    },
    "executionInfo": {
     "elapsed": 7,
     "status": "ok",
     "timestamp": 1623954609599,
     "user": {
      "displayName": "YANG, YUN CHEN 楊芸甄 H24071037",
      "photoUrl": "https://lh3.googleusercontent.com/a/default-user=s64",
      "userId": "00647021112345385047"
     },
     "user_tz": -480
    },
    "id": "Sj4UMA_arGWs",
    "outputId": "0fa96bf3-5815-482f-c10c-c9b5ef758120"
   },
   "outputs": [
    {
     "data": {
      "text/html": [
       "<div>\n",
       "<style scoped>\n",
       "    .dataframe tbody tr th:only-of-type {\n",
       "        vertical-align: middle;\n",
       "    }\n",
       "\n",
       "    .dataframe tbody tr th {\n",
       "        vertical-align: top;\n",
       "    }\n",
       "\n",
       "    .dataframe thead th {\n",
       "        text-align: right;\n",
       "    }\n",
       "</style>\n",
       "<table border=\"1\" class=\"dataframe\">\n",
       "  <thead>\n",
       "    <tr style=\"text-align: right;\">\n",
       "      <th></th>\n",
       "      <th>label</th>\n",
       "      <th>text</th>\n",
       "    </tr>\n",
       "  </thead>\n",
       "  <tbody>\n",
       "    <tr>\n",
       "      <th>0</th>\n",
       "      <td>1</td>\n",
       "      <td>这个月还好这个月还好这个月还好还好还可以有性行为有是跟固定伴侣对固定伴侣对你有固定伴侣啰本来...</td>\n",
       "    </tr>\n",
       "    <tr>\n",
       "      <th>1</th>\n",
       "      <td>1</td>\n",
       "      <td>你会吃prep你会戴套对戴套对戴套全程对如果说全程的话也是没有那如果没有戴套是他要求还是你要...</td>\n",
       "    </tr>\n",
       "    <tr>\n",
       "      <th>2</th>\n",
       "      <td>1</td>\n",
       "      <td>没有很相信你固炮但我觉得是好因为保护自己因为prep本来不是吃给对方看不是一个证明文档说我有...</td>\n",
       "    </tr>\n",
       "    <tr>\n",
       "      <th>3</th>\n",
       "      <td>1</td>\n",
       "      <td>你这个月还好还好那有固定伴侣没有你一直以来都没有固定伴侣什么你从一开始没有固定伴侣你说来这里...</td>\n",
       "    </tr>\n",
       "    <tr>\n",
       "      <th>4</th>\n",
       "      <td>1</td>\n",
       "      <td>还是比较少一点偶尔戴套意思是那吃prep之后更少比偶尔还要再少一点戴套对你会觉得吃prep是...</td>\n",
       "    </tr>\n",
       "  </tbody>\n",
       "</table>\n",
       "</div>"
      ],
      "text/plain": [
       "  label                                               text\n",
       "0     1  这个月还好这个月还好这个月还好还好还可以有性行为有是跟固定伴侣对固定伴侣对你有固定伴侣啰本来...\n",
       "1     1  你会吃prep你会戴套对戴套对戴套全程对如果说全程的话也是没有那如果没有戴套是他要求还是你要...\n",
       "2     1  没有很相信你固炮但我觉得是好因为保护自己因为prep本来不是吃给对方看不是一个证明文档说我有...\n",
       "3     1  你这个月还好还好那有固定伴侣没有你一直以来都没有固定伴侣什么你从一开始没有固定伴侣你说来这里...\n",
       "4     1  还是比较少一点偶尔戴套意思是那吃prep之后更少比偶尔还要再少一点戴套对你会觉得吃prep是..."
      ]
     },
     "execution_count": 37,
     "metadata": {
      "tags": []
     },
     "output_type": "execute_result"
    }
   ],
   "source": [
    "df = pd.read_csv(\"data/risk_df_final_sp.csv\")\n",
    "df = df.drop(columns = [\"article_id\"])\n",
    "df.head()"
   ]
  },
  {
   "cell_type": "code",
   "execution_count": null,
   "metadata": {
    "colab": {
     "base_uri": "https://localhost:8080/"
    },
    "executionInfo": {
     "elapsed": 3,
     "status": "ok",
     "timestamp": 1623954610896,
     "user": {
      "displayName": "YANG, YUN CHEN 楊芸甄 H24071037",
      "photoUrl": "https://lh3.googleusercontent.com/a/default-user=s64",
      "userId": "00647021112345385047"
     },
     "user_tz": -480
    },
    "id": "_FAk9Kwbogcq",
    "outputId": "552cff68-e7eb-4dbf-a8f4-7bccda26bd3d"
   },
   "outputs": [
    {
     "data": {
      "text/plain": [
       "0    495\n",
       "1    378\n",
       "Name: label, dtype: int64"
      ]
     },
     "execution_count": 38,
     "metadata": {
      "tags": []
     },
     "output_type": "execute_result"
    }
   ],
   "source": [
    "df[\"label\"].replace({\"０\":\"0\", \"１\":\"1\"}, inplace = True)\n",
    "df[\"label\"] = pd.to_numeric(df[\"label\"],errors = \"raise\")\n",
    "df.label.value_counts()"
   ]
  },
  {
   "cell_type": "code",
   "execution_count": null,
   "metadata": {
    "id": "dNUE9MkArGWu"
   },
   "outputs": [],
   "source": [
    "all_texts = df['text'].values.tolist()\n",
    "all_labels = df['label'].values.tolist()\n",
    "for i in range(len(all_texts)):\n",
    "  all_texts[i] = unicodedata.normalize(\"NFKC\", all_texts[i])"
   ]
  },
  {
   "cell_type": "code",
   "execution_count": null,
   "metadata": {
    "id": "zPDSfVyystZG"
   },
   "outputs": [],
   "source": [
    "random_seed = 42"
   ]
  },
  {
   "cell_type": "code",
   "execution_count": null,
   "metadata": {
    "colab": {
     "base_uri": "https://localhost:8080/"
    },
    "executionInfo": {
     "elapsed": 375,
     "status": "ok",
     "timestamp": 1623954614175,
     "user": {
      "displayName": "YANG, YUN CHEN 楊芸甄 H24071037",
      "photoUrl": "https://lh3.googleusercontent.com/a/default-user=s64",
      "userId": "00647021112345385047"
     },
     "user_tz": -480
    },
    "id": "fF1Q-on7s8TW",
    "outputId": "8f226865-8e3c-4ec5-adad-c82a01248dd3"
   },
   "outputs": [
    {
     "name": "stderr",
     "output_type": "stream",
     "text": [
      "/usr/local/lib/python3.7/dist-packages/transformers/tokenization_utils_base.py:1631: FutureWarning: Calling BertTokenizer.from_pretrained() with the path to a single file or url is deprecated and won't be possible anymore in v5. Use a model identifier or the path to a directory instead.\n",
      "  FutureWarning,\n"
     ]
    }
   ],
   "source": [
    "#pre_token_ch = \"bert-base-chinese\"\n",
    "#tokenizer = transformers.AutoTokenizer.from_pretrained(pre_token_ch)\n",
    "tokenizer = BertTokenizer.from_pretrained(\"medical_bert_ch/vocab.txt\")"
   ]
  },
  {
   "cell_type": "code",
   "execution_count": null,
   "metadata": {
    "id": "6dF85Q1ay3o6"
   },
   "outputs": [],
   "source": [
    "train_encodings = tokenizer(train_texts, truncation=True, padding=True, add_special_tokens = True, max_length=512)\n",
    "val_encodings = tokenizer(val_texts, truncation=True, padding=True, add_special_tokens = True, max_length=512)"
   ]
  },
  {
   "cell_type": "code",
   "execution_count": null,
   "metadata": {
    "id": "fcIPdEAWy3o7"
   },
   "outputs": [],
   "source": [
    "class RiskDataset(torch.utils.data.Dataset):\n",
    "    def __init__(self, encodings, labels):        \n",
    "        self.encodings = encodings\n",
    "        self.labels = labels\n",
    "        self.len = len(encodings['input_ids'])\n",
    "\n",
    "    def __getitem__(self, idx):\n",
    "        item = {key: torch.tensor(val[idx]) for key, val in self.encodings.items()}\n",
    "        if self.labels != None:\n",
    "          item['labels'] = torch.tensor(self.labels[idx])\n",
    "        return item\n",
    "\n",
    "    def __len__(self):\n",
    "        return self.len"
   ]
  },
  {
   "cell_type": "code",
   "execution_count": null,
   "metadata": {
    "id": "ya5N-G6ry3o8"
   },
   "outputs": [],
   "source": [
    "train_dataset = RiskDataset(train_encodings, train_labels)\n",
    "val_dataset = RiskDataset(val_encodings, val_labels)"
   ]
  },
  {
   "cell_type": "code",
   "execution_count": null,
   "metadata": {
    "id": "nUbZ0aKVy3o-"
   },
   "outputs": [],
   "source": [
    "from sklearn.metrics import accuracy_score, f1_score, roc_auc_score, roc_curve, auc\n",
    "\n",
    "def compute_metrics(pred):\n",
    "    labels = pred.label_ids\n",
    "    preds = np.argmax(pred.predictions, axis=1)\n",
    "    acc = accuracy_score(labels, preds)\n",
    "    auc1 = roc_auc_score(labels, pred.predictions[:, 1])\n",
    "    return {\n",
    "        'accuracy': acc,\n",
    "        'auc': auc1\n",
    "    }"
   ]
  },
  {
   "cell_type": "code",
   "execution_count": null,
   "metadata": {
    "colab": {
     "base_uri": "https://localhost:8080/"
    },
    "executionInfo": {
     "elapsed": 2460,
     "status": "ok",
     "timestamp": 1623954623086,
     "user": {
      "displayName": "YANG, YUN CHEN 楊芸甄 H24071037",
      "photoUrl": "https://lh3.googleusercontent.com/a/default-user=s64",
      "userId": "00647021112345385047"
     },
     "user_tz": -480
    },
    "id": "hvK7hsyOBX3J",
    "outputId": "2e06df3a-dcbc-4f99-c8c5-ad06956f2852"
   },
   "outputs": [
    {
     "name": "stderr",
     "output_type": "stream",
     "text": [
      "Some weights of the model checkpoint at medical_bert_ch/medical_bert_ch.bin were not used when initializing BertForSequenceClassification: ['cls.seq_relationship.weight', 'cls.predictions.transform.dense.weight', 'cls.predictions.transform.LayerNorm.bias', 'cls.predictions.decoder.bias', 'cls.predictions.transform.LayerNorm.weight', 'cls.predictions.transform.dense.bias', 'cls.seq_relationship.bias', 'cls.predictions.bias', 'cls.predictions.decoder.weight']\n",
      "- This IS expected if you are initializing BertForSequenceClassification from the checkpoint of a model trained on another task or with another architecture (e.g. initializing a BertForSequenceClassification model from a BertForPreTraining model).\n",
      "- This IS NOT expected if you are initializing BertForSequenceClassification from the checkpoint of a model that you expect to be exactly identical (initializing a BertForSequenceClassification model from a BertForSequenceClassification model).\n",
      "Some weights of BertForSequenceClassification were not initialized from the model checkpoint at medical_bert_ch/medical_bert_ch.bin and are newly initialized: ['classifier.bias', 'classifier.weight']\n",
      "You should probably TRAIN this model on a down-stream task to be able to use it for predictions and inference.\n"
     ]
    }
   ],
   "source": [
    "config = BertConfig.from_json_file(\"medical_bert_ch/bert_config.json\")\n",
    "model = BertForSequenceClassification.from_pretrained(\"medical_bert_ch/medical_bert_ch.bin\", config=config)\n",
    "#model_base = BertForSequenceClassification.from_pretrained(pre_token_ch)"
   ]
  },
  {
   "cell_type": "code",
   "execution_count": null,
   "metadata": {
    "id": "Bd803Cku6tPP"
   },
   "outputs": [],
   "source": [
    "all_encodings = tokenizer(all_texts, truncation=True, padding=True, add_special_tokens = True, max_length=512)\n",
    "all_dataset = RiskDataset(all_encodings, all_labels)"
   ]
  },
  {
   "cell_type": "code",
   "execution_count": null,
   "metadata": {
    "id": "w7A651l2Sfq1"
   },
   "outputs": [],
   "source": [
    "training_args_test = transformers.TrainingArguments(\n",
    "    output_dir='./results',       \n",
    "    num_train_epochs=4,           \n",
    "    per_device_train_batch_size=8,\n",
    "    #warmup_steps=500,              \n",
    "    #weight_decay=0.01,          \n",
    "    logging_dir='./logs',     \n",
    "    logging_steps=20,\n",
    "    seed=random_seed,\n",
    "    gradient_accumulation_steps = 5,\n",
    "    learning_rate = 3e-5\n",
    ")"
   ]
  },
  {
   "cell_type": "code",
   "execution_count": null,
   "metadata": {
    "colab": {
     "base_uri": "https://localhost:8080/",
     "height": 237
    },
    "executionInfo": {
     "elapsed": 654794,
     "status": "ok",
     "timestamp": 1623955286557,
     "user": {
      "displayName": "YANG, YUN CHEN 楊芸甄 H24071037",
      "photoUrl": "https://lh3.googleusercontent.com/a/default-user=s64",
      "userId": "00647021112345385047"
     },
     "user_tz": -480
    },
    "id": "480_hWxs6cO3",
    "outputId": "3e177991-ca71-410d-9b3d-e07678e41aca"
   },
   "outputs": [
    {
     "data": {
      "text/html": [
       "\n",
       "    <div>\n",
       "      \n",
       "      <progress value='88' max='88' style='width:300px; height:20px; vertical-align: middle;'></progress>\n",
       "      [88/88 10:44, Epoch 4/4]\n",
       "    </div>\n",
       "    <table border=\"1\" class=\"dataframe\">\n",
       "  <thead>\n",
       "    <tr style=\"text-align: left;\">\n",
       "      <th>Step</th>\n",
       "      <th>Training Loss</th>\n",
       "    </tr>\n",
       "  </thead>\n",
       "  <tbody>\n",
       "    <tr>\n",
       "      <td>20</td>\n",
       "      <td>0.699400</td>\n",
       "    </tr>\n",
       "    <tr>\n",
       "      <td>40</td>\n",
       "      <td>0.686600</td>\n",
       "    </tr>\n",
       "    <tr>\n",
       "      <td>60</td>\n",
       "      <td>0.678100</td>\n",
       "    </tr>\n",
       "    <tr>\n",
       "      <td>80</td>\n",
       "      <td>0.628600</td>\n",
       "    </tr>\n",
       "  </tbody>\n",
       "</table><p>"
      ],
      "text/plain": [
       "<IPython.core.display.HTML object>"
      ]
     },
     "metadata": {
      "tags": []
     },
     "output_type": "display_data"
    },
    {
     "data": {
      "text/plain": [
       "TrainOutput(global_step=88, training_loss=0.6670994650233876, metrics={'train_runtime': 651.8869, 'train_samples_per_second': 0.135, 'total_flos': 1097084920356864.0, 'epoch': 4.0, 'init_mem_cpu_alloc_delta': 4096, 'init_mem_gpu_alloc_delta': 413439488, 'init_mem_cpu_peaked_delta': 0, 'init_mem_gpu_peaked_delta': 0, 'train_mem_cpu_alloc_delta': 12288, 'train_mem_gpu_alloc_delta': 1292518912, 'train_mem_cpu_peaked_delta': 0, 'train_mem_gpu_peaked_delta': 6503093248})"
      ]
     },
     "execution_count": 47,
     "metadata": {
      "tags": []
     },
     "output_type": "execute_result"
    }
   ],
   "source": [
    "trainer_all = transformers.Trainer(\n",
    "    model=model,                     \n",
    "    args=training_args_test,         \n",
    "    train_dataset=all_dataset,         \n",
    "    compute_metrics=compute_metrics  \n",
    ")\n",
    "\n",
    "# 指定使用 1 個 GPU 進行訓練\n",
    "trainer_all.args._n_gpu=1\n",
    "\n",
    "# 開始進行模型訓練\n",
    "trainer_all.train()"
   ]
  },
  {
   "cell_type": "code",
   "execution_count": null,
   "metadata": {
    "colab": {
     "base_uri": "https://localhost:8080/",
     "height": 612
    },
    "executionInfo": {
     "elapsed": 17,
     "status": "ok",
     "timestamp": 1623955286564,
     "user": {
      "displayName": "YANG, YUN CHEN 楊芸甄 H24071037",
      "photoUrl": "https://lh3.googleusercontent.com/a/default-user=s64",
      "userId": "00647021112345385047"
     },
     "user_tz": -480
    },
    "id": "Z2P6hfqmTEYf",
    "outputId": "0ca43a52-c69d-4752-d983-d1eb441453ae"
   },
   "outputs": [
    {
     "data": {
      "text/html": [
       "<div>\n",
       "<style scoped>\n",
       "    .dataframe tbody tr th:only-of-type {\n",
       "        vertical-align: middle;\n",
       "    }\n",
       "\n",
       "    .dataframe tbody tr th {\n",
       "        vertical-align: top;\n",
       "    }\n",
       "\n",
       "    .dataframe thead th {\n",
       "        text-align: right;\n",
       "    }\n",
       "</style>\n",
       "<table border=\"1\" class=\"dataframe\">\n",
       "  <thead>\n",
       "    <tr style=\"text-align: right;\">\n",
       "      <th></th>\n",
       "      <th>Unnamed: 0</th>\n",
       "      <th>article_id</th>\n",
       "      <th>label</th>\n",
       "      <th>text</th>\n",
       "    </tr>\n",
       "  </thead>\n",
       "  <tbody>\n",
       "    <tr>\n",
       "      <th>0</th>\n",
       "      <td>0</td>\n",
       "      <td>1</td>\n",
       "      <td>NaN</td>\n",
       "      <td>差不多我看眼睛什么时候能够检查年底是许国强病例是好下礼拜那我们也是照样照照常纪录好那个伤口让...</td>\n",
       "    </tr>\n",
       "    <tr>\n",
       "      <th>1</th>\n",
       "      <td>1</td>\n",
       "      <td>1</td>\n",
       "      <td>NaN</td>\n",
       "      <td>波第一次是那个人不舒服是因为尿道感染没有错好谢我们下次再做我们只要吃药开处方行好你能睡好决不...</td>\n",
       "    </tr>\n",
       "    <tr>\n",
       "      <th>2</th>\n",
       "      <td>2</td>\n",
       "      <td>1</td>\n",
       "      <td>NaN</td>\n",
       "      <td>间也不碰任何东西它会慢慢脱落直到有一天消失好我会写一份转诊表我给你准备数据交给那边治疗师参考...</td>\n",
       "    </tr>\n",
       "    <tr>\n",
       "      <th>3</th>\n",
       "      <td>3</td>\n",
       "      <td>1</td>\n",
       "      <td>NaN</td>\n",
       "      <td>常顺便说让我们看看上次测试是在多久之前完成上个星期他会说想吃糖果不是好这次我必须回来订购评论...</td>\n",
       "    </tr>\n",
       "    <tr>\n",
       "      <th>4</th>\n",
       "      <td>4</td>\n",
       "      <td>2</td>\n",
       "      <td>NaN</td>\n",
       "      <td>让我们先检查索引该死我可以检查好电脑断层以前没有拍过没有计算机断层扫描我没有拍出好照片我很热...</td>\n",
       "    </tr>\n",
       "    <tr>\n",
       "      <th>...</th>\n",
       "      <td>...</td>\n",
       "      <td>...</td>\n",
       "      <td>...</td>\n",
       "      <td>...</td>\n",
       "    </tr>\n",
       "    <tr>\n",
       "      <th>14839</th>\n",
       "      <td>15236</td>\n",
       "      <td>5312</td>\n",
       "      <td>NaN</td>\n",
       "      <td>教不错快好药还要继续开好药不你这周不需要它好你现在每天都吃现在不算每天吃你现在吃怎么样ond...</td>\n",
       "    </tr>\n",
       "    <tr>\n",
       "      <th>14840</th>\n",
       "      <td>15237</td>\n",
       "      <td>5313</td>\n",
       "      <td>NaN</td>\n",
       "      <td>那我来推荐好你住在木叶咿会不会比较好不已经有一段时间姿势会保持固定还是不昨晚我总是会你你可能...</td>\n",
       "    </tr>\n",
       "    <tr>\n",
       "      <th>14841</th>\n",
       "      <td>15238</td>\n",
       "      <td>5313</td>\n",
       "      <td>NaN</td>\n",
       "      <td>都会很开心请问一整天都在做对没关系好对因为大部分c肝都是因为打针引起你hiv有验过有以前被关...</td>\n",
       "    </tr>\n",
       "    <tr>\n",
       "      <th>14842</th>\n",
       "      <td>15239</td>\n",
       "      <td>5313</td>\n",
       "      <td>NaN</td>\n",
       "      <td>作还是不数字这次发烧没事咳嗽没事我们会有开对没关系你下次把你爸爸药带来我帮他看因为我建议他整...</td>\n",
       "    </tr>\n",
       "    <tr>\n",
       "      <th>14843</th>\n",
       "      <td>15240</td>\n",
       "      <td>5314</td>\n",
       "      <td>NaN</td>\n",
       "      <td>为什么要拿出来因为我在抄户籍地址我根本不知道在哪里这这里这里对我家户籍太长好那现在你们会约不...</td>\n",
       "    </tr>\n",
       "  </tbody>\n",
       "</table>\n",
       "<p>14844 rows × 4 columns</p>\n",
       "</div>"
      ],
      "text/plain": [
       "       Unnamed: 0  ...                                               text\n",
       "0               0  ...  差不多我看眼睛什么时候能够检查年底是许国强病例是好下礼拜那我们也是照样照照常纪录好那个伤口让...\n",
       "1               1  ...  波第一次是那个人不舒服是因为尿道感染没有错好谢我们下次再做我们只要吃药开处方行好你能睡好决不...\n",
       "2               2  ...  间也不碰任何东西它会慢慢脱落直到有一天消失好我会写一份转诊表我给你准备数据交给那边治疗师参考...\n",
       "3               3  ...  常顺便说让我们看看上次测试是在多久之前完成上个星期他会说想吃糖果不是好这次我必须回来订购评论...\n",
       "4               4  ...  让我们先检查索引该死我可以检查好电脑断层以前没有拍过没有计算机断层扫描我没有拍出好照片我很热...\n",
       "...           ...  ...                                                ...\n",
       "14839       15236  ...  教不错快好药还要继续开好药不你这周不需要它好你现在每天都吃现在不算每天吃你现在吃怎么样ond...\n",
       "14840       15237  ...  那我来推荐好你住在木叶咿会不会比较好不已经有一段时间姿势会保持固定还是不昨晚我总是会你你可能...\n",
       "14841       15238  ...  都会很开心请问一整天都在做对没关系好对因为大部分c肝都是因为打针引起你hiv有验过有以前被关...\n",
       "14842       15239  ...  作还是不数字这次发烧没事咳嗽没事我们会有开对没关系你下次把你爸爸药带来我帮他看因为我建议他整...\n",
       "14843       15240  ...  为什么要拿出来因为我在抄户籍地址我根本不知道在哪里这这里这里对我家户籍太长好那现在你们会约不...\n",
       "\n",
       "[14844 rows x 4 columns]"
      ]
     },
     "execution_count": 48,
     "metadata": {
      "tags": []
     },
     "output_type": "execute_result"
    }
   ],
   "source": [
    "df_test = pd.read_csv(\"data/risk_df_final_test_sp.csv\")\n",
    "df_test"
   ]
  },
  {
   "cell_type": "code",
   "execution_count": null,
   "metadata": {
    "id": "EuJkokyZTo1m"
   },
   "outputs": [],
   "source": [
    "test_texts = df_test['text'].values.tolist()\n",
    "for i in range(len(test_texts)):\n",
    "  test_texts[i] = unicodedata.normalize(\"NFKC\", test_texts[i])\n",
    "test_encodings = tokenizer(test_texts, truncation=True, padding=True, add_special_tokens = True, max_length=512)\n",
    "test_dataset = RiskDataset(test_encodings, None)"
   ]
  },
  {
   "cell_type": "code",
   "execution_count": null,
   "metadata": {
    "colab": {
     "base_uri": "https://localhost:8080/",
     "height": 555
    },
    "executionInfo": {
     "elapsed": 1006732,
     "status": "ok",
     "timestamp": 1623956351044,
     "user": {
      "displayName": "YANG, YUN CHEN 楊芸甄 H24071037",
      "photoUrl": "https://lh3.googleusercontent.com/a/default-user=s64",
      "userId": "00647021112345385047"
     },
     "user_tz": -480
    },
    "id": "-0x0lKFO65Zd",
    "outputId": "b55e271e-48fd-427e-97da-f1deeab437db"
   },
   "outputs": [
    {
     "data": {
      "text/html": [
       "\n",
       "    <div>\n",
       "      \n",
       "      <progress value='1856' max='1856' style='width:300px; height:20px; vertical-align: middle;'></progress>\n",
       "      [1856/1856 16:45]\n",
       "    </div>\n",
       "    "
      ],
      "text/plain": [
       "<IPython.core.display.HTML object>"
      ]
     },
     "metadata": {
      "tags": []
     },
     "output_type": "display_data"
    },
    {
     "data": {
      "text/plain": [
       "array([[ 0.15526383, -0.63787585],\n",
       "       [ 0.00157782, -0.284387  ],\n",
       "       [ 0.10406069, -0.5723288 ],\n",
       "       [ 0.04434576, -0.6109875 ],\n",
       "       [ 0.29104483, -0.7957777 ],\n",
       "       [-0.01164882, -0.09937813],\n",
       "       [-0.05516176, -0.26391235],\n",
       "       [ 0.51964194, -1.05224   ],\n",
       "       [-0.04977325, -0.20040031],\n",
       "       [-0.09051165, -0.25522968],\n",
       "       [ 0.01043136, -0.06676529],\n",
       "       [-0.02005613, -0.38878185],\n",
       "       [ 0.00222101, -0.18366702],\n",
       "       [-0.20027657,  0.037548  ],\n",
       "       [ 0.26939064, -0.8583077 ],\n",
       "       [ 0.36725542, -0.8526306 ],\n",
       "       [ 0.1619865 , -0.6425852 ],\n",
       "       [ 0.17375733, -0.62338114],\n",
       "       [ 0.19013801, -0.71973085],\n",
       "       [-0.00710744, -0.26847333],\n",
       "       [-0.05131865, -0.35384348],\n",
       "       [ 0.05606695, -0.35146636],\n",
       "       [ 0.09912207, -0.22625764],\n",
       "       [ 0.04774552, -0.32937464],\n",
       "       [ 0.19368683, -0.740471  ],\n",
       "       [ 0.32996908, -1.0242265 ],\n",
       "       [ 0.30535993, -0.7359393 ],\n",
       "       [ 0.01169293, -0.19497918],\n",
       "       [-0.06196823, -0.08226467],\n",
       "       [ 0.4576354 , -0.9650439 ]], dtype=float32)"
      ]
     },
     "execution_count": 50,
     "metadata": {
      "tags": []
     },
     "output_type": "execute_result"
    }
   ],
   "source": [
    "pred = trainer_all.predict(test_dataset)\n",
    "tmp_logits = pred.predictions\n",
    "tmp_logits[:30]"
   ]
  },
  {
   "cell_type": "code",
   "execution_count": null,
   "metadata": {
    "colab": {
     "base_uri": "https://localhost:8080/"
    },
    "executionInfo": {
     "elapsed": 19,
     "status": "ok",
     "timestamp": 1623956351047,
     "user": {
      "displayName": "YANG, YUN CHEN 楊芸甄 H24071037",
      "photoUrl": "https://lh3.googleusercontent.com/a/default-user=s64",
      "userId": "00647021112345385047"
     },
     "user_tz": -480
    },
    "id": "hU1_j5C-reoD",
    "outputId": "81e570b8-2563-412b-d4e7-84c9802f8966"
   },
   "outputs": [
    {
     "data": {
      "text/plain": [
       "array([0.3114949 , 0.428992  , 0.3370676 , 0.3417887 , 0.2522171 ,\n",
       "       0.47808173, 0.44800106, 0.17194825, 0.4624143 , 0.45891333,\n",
       "       0.4807104 , 0.40884897, 0.45366132, 0.55917746, 0.2445861 ,\n",
       "       0.2279565 , 0.3090484 , 0.31063798, 0.28702667, 0.435028  ,\n",
       "       0.42494038, 0.39950374, 0.41936526, 0.40682164, 0.28208193,\n",
       "       0.20518528, 0.2608994 , 0.44851512, 0.49492604, 0.19424188],\n",
       "      dtype=float32)"
      ]
     },
     "execution_count": 51,
     "metadata": {
      "tags": []
     },
     "output_type": "execute_result"
    }
   ],
   "source": [
    "myts = torch.from_numpy(tmp_logits)\n",
    "m = torch.nn.Softmax(dim=1)\n",
    "mynp1 = m(myts)[:,1].numpy()\n",
    "mynp1[:30]"
   ]
  },
  {
   "cell_type": "code",
   "execution_count": null,
   "metadata": {
    "colab": {
     "base_uri": "https://localhost:8080/",
     "height": 205
    },
    "executionInfo": {
     "elapsed": 24,
     "status": "ok",
     "timestamp": 1623956351056,
     "user": {
      "displayName": "YANG, YUN CHEN 楊芸甄 H24071037",
      "photoUrl": "https://lh3.googleusercontent.com/a/default-user=s64",
      "userId": "00647021112345385047"
     },
     "user_tz": -480
    },
    "id": "VQmZzJXRszGQ",
    "outputId": "472d0116-cc23-4269-83c8-2262e4dd70e0"
   },
   "outputs": [
    {
     "data": {
      "text/html": [
       "<div>\n",
       "<style scoped>\n",
       "    .dataframe tbody tr th:only-of-type {\n",
       "        vertical-align: middle;\n",
       "    }\n",
       "\n",
       "    .dataframe tbody tr th {\n",
       "        vertical-align: top;\n",
       "    }\n",
       "\n",
       "    .dataframe thead th {\n",
       "        text-align: right;\n",
       "    }\n",
       "</style>\n",
       "<table border=\"1\" class=\"dataframe\">\n",
       "  <thead>\n",
       "    <tr style=\"text-align: right;\">\n",
       "      <th></th>\n",
       "      <th>article_id</th>\n",
       "      <th>probability</th>\n",
       "    </tr>\n",
       "  </thead>\n",
       "  <tbody>\n",
       "    <tr>\n",
       "      <th>0</th>\n",
       "      <td>1</td>\n",
       "      <td>0.311495</td>\n",
       "    </tr>\n",
       "    <tr>\n",
       "      <th>1</th>\n",
       "      <td>1</td>\n",
       "      <td>0.428992</td>\n",
       "    </tr>\n",
       "    <tr>\n",
       "      <th>2</th>\n",
       "      <td>1</td>\n",
       "      <td>0.337068</td>\n",
       "    </tr>\n",
       "    <tr>\n",
       "      <th>3</th>\n",
       "      <td>1</td>\n",
       "      <td>0.341789</td>\n",
       "    </tr>\n",
       "    <tr>\n",
       "      <th>4</th>\n",
       "      <td>2</td>\n",
       "      <td>0.252217</td>\n",
       "    </tr>\n",
       "  </tbody>\n",
       "</table>\n",
       "</div>"
      ],
      "text/plain": [
       "   article_id  probability\n",
       "0           1     0.311495\n",
       "1           1     0.428992\n",
       "2           1     0.337068\n",
       "3           1     0.341789\n",
       "4           2     0.252217"
      ]
     },
     "execution_count": 52,
     "metadata": {
      "tags": []
     },
     "output_type": "execute_result"
    }
   ],
   "source": [
    "df_test1 = df_test.drop(columns = [\"Unnamed: 0\",\"text\",\"label\"])\n",
    "df_test1['probability'] = mynp1\n",
    "df_test1.head()"
   ]
  },
  {
   "cell_type": "code",
   "execution_count": null,
   "metadata": {
    "colab": {
     "base_uri": "https://localhost:8080/",
     "height": 237
    },
    "executionInfo": {
     "elapsed": 23,
     "status": "ok",
     "timestamp": 1623956351057,
     "user": {
      "displayName": "YANG, YUN CHEN 楊芸甄 H24071037",
      "photoUrl": "https://lh3.googleusercontent.com/a/default-user=s64",
      "userId": "00647021112345385047"
     },
     "user_tz": -480
    },
    "id": "eG5WFCoNwhFv",
    "outputId": "15f544ce-118f-4114-e4c1-06125b0b0f18"
   },
   "outputs": [
    {
     "data": {
      "text/html": [
       "<div>\n",
       "<style scoped>\n",
       "    .dataframe tbody tr th:only-of-type {\n",
       "        vertical-align: middle;\n",
       "    }\n",
       "\n",
       "    .dataframe tbody tr th {\n",
       "        vertical-align: top;\n",
       "    }\n",
       "\n",
       "    .dataframe thead th {\n",
       "        text-align: right;\n",
       "    }\n",
       "</style>\n",
       "<table border=\"1\" class=\"dataframe\">\n",
       "  <thead>\n",
       "    <tr style=\"text-align: right;\">\n",
       "      <th></th>\n",
       "      <th>probability</th>\n",
       "    </tr>\n",
       "    <tr>\n",
       "      <th>article_id</th>\n",
       "      <th></th>\n",
       "    </tr>\n",
       "  </thead>\n",
       "  <tbody>\n",
       "    <tr>\n",
       "      <th>1</th>\n",
       "      <td>0.354836</td>\n",
       "    </tr>\n",
       "    <tr>\n",
       "      <th>2</th>\n",
       "      <td>0.392767</td>\n",
       "    </tr>\n",
       "    <tr>\n",
       "      <th>3</th>\n",
       "      <td>0.364425</td>\n",
       "    </tr>\n",
       "    <tr>\n",
       "      <th>4</th>\n",
       "      <td>0.444780</td>\n",
       "    </tr>\n",
       "    <tr>\n",
       "      <th>5</th>\n",
       "      <td>0.419142</td>\n",
       "    </tr>\n",
       "  </tbody>\n",
       "</table>\n",
       "</div>"
      ],
      "text/plain": [
       "            probability\n",
       "article_id             \n",
       "1              0.354836\n",
       "2              0.392767\n",
       "3              0.364425\n",
       "4              0.444780\n",
       "5              0.419142"
      ]
     },
     "execution_count": 53,
     "metadata": {
      "tags": []
     },
     "output_type": "execute_result"
    }
   ],
   "source": [
    "df_test2 = df_test1.groupby('article_id').mean()\n",
    "df_test2.head()"
   ]
  },
  {
   "cell_type": "code",
   "execution_count": null,
   "metadata": {
    "id": "lhIzWYCkRyGY"
   },
   "outputs": [],
   "source": [
    "df_test2.to_csv(\"data/decision.csv\", index = True)"
   ]
  },
  {
   "cell_type": "code",
   "execution_count": null,
   "metadata": {
    "id": "PFy22wVh_ISp"
   },
   "outputs": [],
   "source": []
  }
 ],
 "metadata": {
  "accelerator": "GPU",
  "colab": {
   "collapsed_sections": [],
   "name": "risk_train.ipynb",
   "provenance": []
  },
  "kernelspec": {
   "display_name": "Python 3",
   "language": "python",
   "name": "python3"
  },
  "language_info": {
   "codemirror_mode": {
    "name": "ipython",
    "version": 3
   },
   "file_extension": ".py",
   "mimetype": "text/x-python",
   "name": "python",
   "nbconvert_exporter": "python",
   "pygments_lexer": "ipython3",
   "version": "3.7.10"
  }
 },
 "nbformat": 4,
 "nbformat_minor": 1
}
